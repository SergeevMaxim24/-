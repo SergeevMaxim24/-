{
 "cells": [
  {
   "cell_type": "markdown",
   "metadata": {},
   "source": [
    "Задание:\n",
    "    Выберите набор данных (датасет) для решения задачи классификации или регресии.\n",
    "    В случае необходимости проведите удаление или заполнение пропусков и кодирование категориальных признаков.\n",
    "    С использованием метода train_test_split разделите выборку на обучающую и тестовую.\n",
    "    Обучите следующие ансамблевые модели:\n",
    "        одну из моделей группы бэггинга (бэггинг или случайный лес или сверхслучайные деревья);\n",
    "        одну из моделей группы бустинга;\n",
    "        одну из моделей группы стекинга.\n",
    "    Оцените качество моделей с помощью одной из подходящих для задачи метрик. Сравните качество полученных моделей."
   ]
  },
  {
   "cell_type": "code",
   "execution_count": null,
   "metadata": {
    "id": "40tlAg5ITqTH"
   },
   "outputs": [],
   "source": [
    "from sklearn.datasets import load_iris\n",
    "from sklearn.model_selection import train_test_split\n",
    "from sklearn.metrics import accuracy_score\n",
    "from sklearn.tree import DecisionTreeClassifier\n",
    "from sklearn.ensemble import RandomForestClassifier\n",
    "from sklearn.ensemble import GradientBoostingClassifier\n",
    "from sklearn.ensemble import BaggingClassifier\n",
    "from sklearn.linear_model import RidgeClassifier\n",
    "import seaborn as sns\n",
    "%matplotlib inline \n",
    "sns.set(style=\"ticks\")"
   ]
  },
  {
   "cell_type": "code",
   "execution_count": null,
   "metadata": {
    "id": "ahP4LUubTvAx"
   },
   "outputs": [],
   "source": [
    "# Выберем исходный набор данных и проведём разбиение на обучающую и тестовую выборки\n",
    "iris = load_iris()\n",
    "\n",
    "iris_X_train, iris_X_test, iris_y_train, iris_y_test = train_test_split(\n",
    "    iris.data, iris.target, test_size=0.5, random_state=1)"
   ]
  },
  {
   "cell_type": "code",
   "execution_count": null,
   "metadata": {
    "colab": {
     "base_uri": "https://localhost:8080/"
    },
    "id": "3afe54grTxsc",
    "outputId": "ec058366-ef1d-4c9c-a664-c1363982b900"
   },
   "outputs": [
    {
     "data": {
      "text/plain": [
       "BaggingClassifier(n_estimators=15, oob_score=True, random_state=1)"
      ]
     },
     "execution_count": 3,
     "metadata": {},
     "output_type": "execute_result"
    }
   ],
   "source": [
    "# Обучение модели бэггинга\n",
    "bg = BaggingClassifier(n_estimators=15, oob_score=True, random_state=1)\n",
    "bg.fit(iris_X_train, iris_y_train)"
   ]
  },
  {
   "cell_type": "code",
   "execution_count": null,
   "metadata": {
    "colab": {
     "base_uri": "https://localhost:8080/"
    },
    "id": "OPULJ-gBT0uz",
    "outputId": "eb79ecbc-cc0d-41ae-b1c7-ce4b1bc1dddf"
   },
   "outputs": [
    {
     "data": {
      "text/plain": [
       "0.9466666666666667"
      ]
     },
     "execution_count": 4,
     "metadata": {},
     "output_type": "execute_result"
    }
   ],
   "source": [
    "# Оценка качества модели\n",
    "accuracy_score(iris_y_test, bg.predict(iris_X_test))"
   ]
  },
  {
   "cell_type": "code",
   "execution_count": null,
   "metadata": {
    "colab": {
     "base_uri": "https://localhost:8080/"
    },
    "id": "0MuJdp_iT2ud",
    "outputId": "a35be258-5b68-43e4-8b71-e30c7bbcacca"
   },
   "outputs": [
    {
     "data": {
      "text/plain": [
       "GradientBoostingClassifier(n_estimators=15, random_state=1)"
      ]
     },
     "execution_count": 5,
     "metadata": {},
     "output_type": "execute_result"
    }
   ],
   "source": [
    "# Обучение модели бустинга (градиентный спуск)\n",
    "gb = GradientBoostingClassifier(n_estimators=15, random_state=1)\n",
    "gb.fit(iris_X_train, iris_y_train)"
   ]
  },
  {
   "cell_type": "code",
   "execution_count": null,
   "metadata": {
    "colab": {
     "base_uri": "https://localhost:8080/"
    },
    "id": "XSINjTFLT5Ti",
    "outputId": "943fc28d-d29c-435d-e35d-72d644a7f504"
   },
   "outputs": [
    {
     "data": {
      "text/plain": [
       "0.96"
      ]
     },
     "execution_count": 6,
     "metadata": {},
     "output_type": "execute_result"
    }
   ],
   "source": [
    "# Оценка качества модели\n",
    "accuracy_score(iris_y_test, gb.predict(iris_X_test))"
   ]
  },
  {
   "cell_type": "code",
   "execution_count": null,
   "metadata": {
    "colab": {
     "base_uri": "https://localhost:8080/"
    },
    "id": "-S6dySeRT-kI",
    "outputId": "ddd58234-765e-487d-dbd4-b13c0c113731"
   },
   "outputs": [
    {
     "name": "stdout",
     "output_type": "stream",
     "text": [
      "Metric: accuracy_score\n",
      "Folds accuracy: [1.0, 1.0, 1.0, 0.875, 1.0, 1.0, 0.8571428571428571, 0.8571428571428571, 0.8571428571428571, 0.8571428571428571]\n",
      "Mean accuracy: 0.9303571428571429\n",
      "Standard Deviation: 0.06982576712863271\n",
      "Variance: 0.004875637755102044\n"
     ]
    }
   ],
   "source": [
    "from heamy.estimator import Regressor\n",
    "from heamy.pipeline import ModelsPipeline\n",
    "from heamy.dataset import Dataset\n",
    "\n",
    "dataset = Dataset(iris_X_train, iris_y_train, iris_X_test, iris_y_test)\n",
    "\n",
    "model_tree = Regressor(dataset=dataset, estimator=DecisionTreeClassifier, name='tree')\n",
    "model_lr = Regressor(dataset=dataset, estimator=RidgeClassifier,name='lr')\n",
    "model_rf = Regressor(dataset=dataset, estimator=RandomForestClassifier, parameters={'n_estimators': 50},name='rf')\n",
    "\n",
    "pipeline = ModelsPipeline(model_tree, model_lr, model_rf)\n",
    "stack_ds = pipeline.stack(k=10, seed=1)\n",
    "# модель второго уровня\n",
    "stacker = Regressor(dataset=stack_ds, estimator=DecisionTreeClassifier)\n",
    "results = stacker.validate(k=10,scorer=accuracy_score)"
   ]
  }
 ],
 "metadata": {
  "colab": {
   "name": "Lab5.ipynb",
   "provenance": []
  },
  "kernelspec": {
   "display_name": "Python 3 (ipykernel)",
   "language": "python",
   "name": "python3"
  },
  "language_info": {
   "codemirror_mode": {
    "name": "ipython",
    "version": 3
   },
   "file_extension": ".py",
   "mimetype": "text/x-python",
   "name": "python",
   "nbconvert_exporter": "python",
   "pygments_lexer": "ipython3",
   "version": "3.9.7"
  }
 },
 "nbformat": 4,
 "nbformat_minor": 1
}
